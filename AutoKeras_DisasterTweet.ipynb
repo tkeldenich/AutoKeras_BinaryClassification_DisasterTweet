{
  "nbformat": 4,
  "nbformat_minor": 0,
  "metadata": {
    "kernelspec": {
      "language": "python",
      "display_name": "Python 3",
      "name": "python3"
    },
    "language_info": {
      "name": "python",
      "version": "3.7.9",
      "mimetype": "text/x-python",
      "codemirror_mode": {
        "name": "ipython",
        "version": 3
      },
      "pygments_lexer": "ipython3",
      "nbconvert_exporter": "python",
      "file_extension": ".py"
    },
    "colab": {
      "name": "AutoKeras_DisasterTweet.ipynb",
      "provenance": [],
      "collapsed_sections": []
    },
    "accelerator": "GPU"
  },
  "cells": [
    {
      "cell_type": "markdown",
      "metadata": {
        "id": "8N1HN91wRkNJ"
      },
      "source": [
        "# **Utiliser AutoKeras pour de la Classification Binaire** - [Lire l'article](https://inside-machinelearning.com/autokeras-la-librairie-du-futur/)"
      ]
    },
    {
      "cell_type": "markdown",
      "metadata": {
        "id": "yhwElG2QRopH"
      },
      "source": [
        "## **Charger les données**"
      ]
    },
    {
      "cell_type": "markdown",
      "metadata": {
        "id": "UqeGnBmdTi0S"
      },
      "source": [
        "Dans ce programme, on va se servir d'**AutoKeras** pour faire de la **Classification de Texte**. Pour cela, on utilise les données de la **compétition Kaggle** *Natural Language Processing with Disaster Tweets*.\n",
        "\n",
        "L'objectif est de **classifier des tweets** : parlent-ils de **catastrophes** entrain de se passer ou bien de **la vie de tous les jours ?**\n",
        "\n",
        "Notre algorithmes de **Deep Learning** devra en décider **par lui-même !**\n",
        "\n",
        "Ici on a donc des **données textes à classifier** en **1** (catastrophe) ou en **0** (vie quotidienne)."
      ]
    },
    {
      "cell_type": "markdown",
      "metadata": {
        "id": "fx2lkpF3SwKs"
      },
      "source": [
        "On commence par importer les **librairies de base** pour faire du **Machine Learning :**\n",
        "- numpy\n",
        "- pandas"
      ]
    },
    {
      "cell_type": "code",
      "metadata": {
        "_uuid": "8f2839f25d086af736a60e9eeb907d3b93b6e0e5",
        "_cell_guid": "b1076dfc-b9ad-4769-8c92-a6c4dae69d19",
        "trusted": true,
        "id": "CYwUPZMSz-hK"
      },
      "source": [
        "import numpy as np\n",
        "import pandas as pd"
      ],
      "execution_count": 1,
      "outputs": []
    },
    {
      "cell_type": "markdown",
      "metadata": {
        "id": "VqHVVnqyVTGV"
      },
      "source": [
        "On importe les **tweets** qui se trouvent au **format CSV** sur **Github** à [cette adresse](https://github.com/tkeldenich/AutoKeras_BinaryClassification_DisasterTweet)."
      ]
    },
    {
      "cell_type": "code",
      "metadata": {
        "id": "fQvHvCRFSMJw"
      },
      "source": [
        "!git clone https://github.com/tkeldenich/AutoKeras_BinaryClassification_DisasterTweet.git  &> /dev/null"
      ],
      "execution_count": 2,
      "outputs": []
    },
    {
      "cell_type": "markdown",
      "metadata": {
        "id": "Dg4btnDkVBYz"
      },
      "source": [
        "Ensuite on **charge** les données de **train** et de **test**.\n",
        "\n",
        "Ici, une **différence** par rapport à d'habitude, pour utiliser AutoKeras nous devons **transformer notre liste** de tweet en **array numpy**, pour cela on utilise la fonction *to_numpy()*."
      ]
    },
    {
      "cell_type": "code",
      "metadata": {
        "trusted": true,
        "id": "8IRCTKl1z-hT"
      },
      "source": [
        "train_data = pd.read_csv('/content/AutoKeras_BinaryClassification_DisasterTweet/train.csv', index_col = 'id')\n",
        "train_data = train_data.reset_index(drop = True)\n",
        "\n",
        "X_train = train_data[['text']].to_numpy()\n",
        "y_train = train_data[['target']].to_numpy()"
      ],
      "execution_count": 3,
      "outputs": []
    },
    {
      "cell_type": "code",
      "metadata": {
        "trusted": true,
        "id": "TIjpt4FIz-hV"
      },
      "source": [
        "test_data = pd.read_csv('/content/AutoKeras_BinaryClassification_DisasterTweet/test.csv')\n",
        "\n",
        "test_id = test_data[['id']]\n",
        "\n",
        "X_test = test_data[['text']].to_numpy()"
      ],
      "execution_count": 4,
      "outputs": []
    },
    {
      "cell_type": "markdown",
      "metadata": {
        "id": "YDMNADnIVflL"
      },
      "source": [
        "On peut **vérifier** que nos données sont bien sous forme d'**array numpy** :"
      ]
    },
    {
      "cell_type": "code",
      "metadata": {
        "trusted": true,
        "colab": {
          "base_uri": "https://localhost:8080/"
        },
        "id": "eTOPnC4rz-hV",
        "outputId": "48fa109f-36c9-4650-912a-6d05eeb48deb"
      },
      "source": [
        "X_train"
      ],
      "execution_count": 5,
      "outputs": [
        {
          "output_type": "execute_result",
          "data": {
            "text/plain": [
              "array([['Our Deeds are the Reason of this #earthquake May ALLAH Forgive us all'],\n",
              "       ['Forest fire near La Ronge Sask. Canada'],\n",
              "       [\"All residents asked to 'shelter in place' are being notified by officers. No other evacuation or shelter in place orders are expected\"],\n",
              "       ...,\n",
              "       ['M1.94 [01:04 UTC]?5km S of Volcano Hawaii. http://t.co/zDtoyd8EbJ'],\n",
              "       ['Police investigating after an e-bike collided with a car in Little Portugal. E-bike rider suffered serious non-life threatening injuries.'],\n",
              "       ['The Latest: More Homes Razed by Northern California Wildfire - ABC News http://t.co/YmY4rSkQ3d']],\n",
              "      dtype=object)"
            ]
          },
          "metadata": {
            "tags": []
          },
          "execution_count": 5
        }
      ]
    },
    {
      "cell_type": "markdown",
      "metadata": {
        "id": "Qxn_enJmz-hW"
      },
      "source": [
        "### **Modèle AutoKeras**"
      ]
    },
    {
      "cell_type": "markdown",
      "metadata": {
        "id": "XYgPvEcLVnt8"
      },
      "source": [
        "Pour **utiliser AutoKeras** la première chose à faire est d'**installer la librairie** sur notre serveur :"
      ]
    },
    {
      "cell_type": "code",
      "metadata": {
        "trusted": true,
        "id": "2FzEWz2Xz-hW"
      },
      "source": [
        "!pip install autokeras &> /dev/null"
      ],
      "execution_count": 6,
      "outputs": []
    },
    {
      "cell_type": "markdown",
      "metadata": {
        "id": "CaPw38pHVwXk"
      },
      "source": [
        "On **importe** ensuite la **librairie**."
      ]
    },
    {
      "cell_type": "code",
      "metadata": {
        "trusted": true,
        "id": "VV0gR_v4z-hW"
      },
      "source": [
        "import autokeras as ak"
      ],
      "execution_count": 7,
      "outputs": []
    },
    {
      "cell_type": "markdown",
      "metadata": {
        "id": "SRK27i_SV3Xm"
      },
      "source": [
        "La **partie intéressante** commence ! On veut faire de la **classification de texte**, on utilise donc la fonction *TextClassifier()* de **AutoKeras**.\n",
        "\n",
        "Cette fonction possède un **paramètre** principale : **max_trials**.\n",
        "\n",
        "**max_trials** permet de déterminer **le nombre de modèle** que AutoKeras va tester avant de **choisir le meilleur d'entre eux**.\n",
        "\n",
        "**D'autres paramètres existe** que vous pouvez **consulter** sur la [documentation](https://autokeras.com/text_classifier/)."
      ]
    },
    {
      "cell_type": "code",
      "metadata": {
        "id": "p1e-cjgjV08G"
      },
      "source": [
        "clf = ak.TextClassifier(\n",
        "    max_trials=3\n",
        ")"
      ],
      "execution_count": 8,
      "outputs": []
    },
    {
      "cell_type": "markdown",
      "metadata": {
        "id": "A_qC8vevXBj1"
      },
      "source": [
        "Puis, on **entraîne notre modèle !**"
      ]
    },
    {
      "cell_type": "code",
      "metadata": {
        "trusted": true,
        "colab": {
          "base_uri": "https://localhost:8080/"
        },
        "id": "0-d5wH2Dz-hX",
        "outputId": "33030e77-06d6-4eab-b6c7-5fd5bfe4b7ea"
      },
      "source": [
        "clf.fit(X_train, y_train, validation_split = 0.2, epochs=4)"
      ],
      "execution_count": 9,
      "outputs": [
        {
          "output_type": "stream",
          "text": [
            "Trial 3 Complete [00h 12m 40s]\n",
            "val_loss: 0.38932037353515625\n",
            "\n",
            "Best val_loss So Far: 0.38932037353515625\n",
            "Total elapsed time: 00h 13m 58s\n",
            "INFO:tensorflow:Oracle triggered exit\n",
            "Epoch 1/4\n",
            "238/238 [==============================] - 195s 752ms/step - loss: 0.6609 - accuracy: 0.6415\n",
            "Epoch 2/4\n",
            "238/238 [==============================] - 178s 751ms/step - loss: 0.4111 - accuracy: 0.8295\n",
            "Epoch 3/4\n",
            "238/238 [==============================] - 178s 751ms/step - loss: 0.3263 - accuracy: 0.8710\n",
            "Epoch 4/4\n",
            "238/238 [==============================] - 178s 751ms/step - loss: 0.2626 - accuracy: 0.9006\n"
          ],
          "name": "stdout"
        },
        {
          "output_type": "stream",
          "text": [
            "WARNING:absl:Found untraced functions such as word_embeddings_layer_call_fn, word_embeddings_layer_call_and_return_conditional_losses, position_embedding_layer_call_fn, position_embedding_layer_call_and_return_conditional_losses, type_embeddings_layer_call_fn while saving (showing 5 of 945). These functions will not be directly callable after loading.\n",
            "WARNING:absl:Found untraced functions such as word_embeddings_layer_call_fn, word_embeddings_layer_call_and_return_conditional_losses, position_embedding_layer_call_fn, position_embedding_layer_call_and_return_conditional_losses, type_embeddings_layer_call_fn while saving (showing 5 of 945). These functions will not be directly callable after loading.\n"
          ],
          "name": "stderr"
        },
        {
          "output_type": "stream",
          "text": [
            "INFO:tensorflow:Assets written to: ./text_classifier/best_model/assets\n"
          ],
          "name": "stdout"
        },
        {
          "output_type": "stream",
          "text": [
            "INFO:tensorflow:Assets written to: ./text_classifier/best_model/assets\n"
          ],
          "name": "stderr"
        }
      ]
    },
    {
      "cell_type": "markdown",
      "metadata": {
        "id": "I0Y67F88XJYC"
      },
      "source": [
        "**Simple, rapide, efficace...** que demande le peuple ?"
      ]
    },
    {
      "cell_type": "markdown",
      "metadata": {
        "id": "IO5RgVjuXMwa"
      },
      "source": [
        "On réalise ensuite notre **prédiction**."
      ]
    },
    {
      "cell_type": "code",
      "metadata": {
        "colab": {
          "base_uri": "https://localhost:8080/"
        },
        "id": "1SpStojbZ9sx",
        "outputId": "49f60634-077d-418e-b49c-cdc5f547c6c3"
      },
      "source": [
        "predictions = clf.predict(X_test)"
      ],
      "execution_count": 10,
      "outputs": [
        {
          "output_type": "stream",
          "text": [
            "WARNING:tensorflow:Unresolved object in checkpoint: (root).model._config_dict\n"
          ],
          "name": "stdout"
        },
        {
          "output_type": "stream",
          "text": [
            "WARNING:tensorflow:Unresolved object in checkpoint: (root).model._config_dict\n"
          ],
          "name": "stderr"
        },
        {
          "output_type": "stream",
          "text": [
            "WARNING:tensorflow:Unresolved object in checkpoint: (root).model._config_dict.initializer\n"
          ],
          "name": "stdout"
        },
        {
          "output_type": "stream",
          "text": [
            "WARNING:tensorflow:Unresolved object in checkpoint: (root).model._config_dict.initializer\n"
          ],
          "name": "stderr"
        },
        {
          "output_type": "stream",
          "text": [
            "WARNING:tensorflow:Unresolved object in checkpoint: (root).model._config_dict.initializer.config\n"
          ],
          "name": "stdout"
        },
        {
          "output_type": "stream",
          "text": [
            "WARNING:tensorflow:Unresolved object in checkpoint: (root).model._config_dict.initializer.config\n"
          ],
          "name": "stderr"
        },
        {
          "output_type": "stream",
          "text": [
            "WARNING:tensorflow:A checkpoint was restored (e.g. tf.train.Checkpoint.restore or tf.keras.Model.load_weights) but not all checkpointed values were used. See above for specific issues. Use expect_partial() on the load status object, e.g. tf.train.Checkpoint.restore(...).expect_partial(), to silence these warnings, or use assert_consumed() to make the check explicit. See https://www.tensorflow.org/guide/checkpoint#loading_mechanics for details.\n"
          ],
          "name": "stdout"
        },
        {
          "output_type": "stream",
          "text": [
            "WARNING:tensorflow:A checkpoint was restored (e.g. tf.train.Checkpoint.restore or tf.keras.Model.load_weights) but not all checkpointed values were used. See above for specific issues. Use expect_partial() on the load status object, e.g. tf.train.Checkpoint.restore(...).expect_partial(), to silence these warnings, or use assert_consumed() to make the check explicit. See https://www.tensorflow.org/guide/checkpoint#loading_mechanics for details.\n"
          ],
          "name": "stderr"
        }
      ]
    },
    {
      "cell_type": "markdown",
      "metadata": {
        "id": "CXLjNhi8m4f-"
      },
      "source": [
        "Cette **prédiction** est **composé de 1 et de 0** au format **float**, on les transforme en **int**."
      ]
    },
    {
      "cell_type": "code",
      "metadata": {
        "id": "O0ijss1jZ_6b"
      },
      "source": [
        "predictions = list(map(int, predictions))"
      ],
      "execution_count": 11,
      "outputs": []
    },
    {
      "cell_type": "markdown",
      "metadata": {
        "id": "6-AZX0gAYgBS"
      },
      "source": [
        "**3 lignes de code** pour réaliser le **preprocessing, l'entraînement et la prédiction**. On peut **difficilement faire mieux !**"
      ]
    },
    {
      "cell_type": "markdown",
      "metadata": {
        "id": "_SXTbdE_YjNN"
      },
      "source": [
        "Et pour **exporter le modèle** et le **réutiliser ailleurs**, voilà **la marche à suivre :**"
      ]
    },
    {
      "cell_type": "code",
      "metadata": {
        "colab": {
          "base_uri": "https://localhost:8080/"
        },
        "id": "c9Zefo5sYTJ-",
        "outputId": "5fc13c7c-d7e1-47fa-bfff-560865798202"
      },
      "source": [
        "model = clf.export_model()\n",
        "\n",
        "\n",
        "try:\n",
        "    model.save(\"model_autokeras\", save_format=\"tf\")\n",
        "except Exception:\n",
        "    model.save(\"model_autokeras.h5\")"
      ],
      "execution_count": 12,
      "outputs": [
        {
          "output_type": "stream",
          "text": [
            "WARNING:absl:Found untraced functions such as word_embeddings_layer_call_fn, word_embeddings_layer_call_and_return_conditional_losses, position_embedding_layer_call_fn, position_embedding_layer_call_and_return_conditional_losses, type_embeddings_layer_call_fn while saving (showing 5 of 945). These functions will not be directly callable after loading.\n",
            "WARNING:absl:Found untraced functions such as word_embeddings_layer_call_fn, word_embeddings_layer_call_and_return_conditional_losses, position_embedding_layer_call_fn, position_embedding_layer_call_and_return_conditional_losses, type_embeddings_layer_call_fn while saving (showing 5 of 945). These functions will not be directly callable after loading.\n"
          ],
          "name": "stderr"
        },
        {
          "output_type": "stream",
          "text": [
            "INFO:tensorflow:Assets written to: model_autokeras/assets\n"
          ],
          "name": "stdout"
        },
        {
          "output_type": "stream",
          "text": [
            "INFO:tensorflow:Assets written to: model_autokeras/assets\n"
          ],
          "name": "stderr"
        }
      ]
    },
    {
      "cell_type": "markdown",
      "metadata": {
        "id": "k_nZ_pj9Yrbc"
      },
      "source": [
        "Ainsi que les étapes pour **réutiliser ce modèle exporter** :"
      ]
    },
    {
      "cell_type": "code",
      "metadata": {
        "id": "606VlyqhYZMH"
      },
      "source": [
        "#loaded_model = load_model(\"model_autokeras\", custom_objects=ak.CUSTOM_OBJECTS)\n",
        "#prediction = loaded_model.predict(X_test)"
      ],
      "execution_count": 13,
      "outputs": []
    },
    {
      "cell_type": "markdown",
      "metadata": {
        "id": "pcoxn-NaXVyU"
      },
      "source": [
        "Et voilà, nous avons vu la **base d'AutoKeras** et il ne vous reste plus qu'à l'**utiliser à votre guise.**\n",
        "\n",
        "N'hésitez pas à **faire un tour** sur [la documentation d'AutoKeras](https://autokeras.com) pour en **apprendre plus.**\n",
        "\n",
        "Cette librairie est un **petit bijoux** et n'annonce que du bon pour **le futur du Machine Learning !** ;)"
      ]
    }
  ]
}
